{
 "cells": [
  {
   "cell_type": "code",
   "execution_count": 60,
   "metadata": {
    "collapsed": true,
    "deletable": true,
    "editable": true
   },
   "outputs": [],
   "source": [
    "import os\n",
    "\n",
    "import matplotlib.pyplot as plt\n",
    "import numpy as np\n",
    "\n",
    "from PIL import ImageFile\n",
    "\n",
    "ImageFile.LOAD_TRUNCATED_IMAGES = True\n",
    "\n",
    "%matplotlib inline"
   ]
  },
  {
   "cell_type": "code",
   "execution_count": 2,
   "metadata": {
    "collapsed": true,
    "deletable": true,
    "editable": true
   },
   "outputs": [],
   "source": [
    "TRAIN_DIR = 'data/train'\n",
    "TEST_DIR = 'data/test'"
   ]
  },
  {
   "cell_type": "code",
   "execution_count": 6,
   "metadata": {
    "collapsed": false,
    "deletable": true,
    "editable": true
   },
   "outputs": [
    {
     "name": "stdout",
     "output_type": "stream",
     "text": [
      "['Type_1', 'Type_2', 'Type_3']\n",
      "['data/train/Type_1', 'data/train/Type_2', 'data/train/Type_3']\n",
      "[250, 781, 450]\n"
     ]
    }
   ],
   "source": [
    "classes = [f for f in os.listdir(TRAIN_DIR) if os.path.isdir(os.path.join(TRAIN_DIR, f))]\n",
    "train_dirs = [os.path.join(TRAIN_DIR, f) for f in classes]\n",
    "samples = [[os.path.join(d, f) for f in os.listdir(d) if f.endswith('.jpg')] for d in train_dirs]\n",
    "print(classes)\n",
    "print(train_dirs)\n",
    "print([len(cls) for cls in samples])"
   ]
  },
  {
   "cell_type": "code",
   "execution_count": 70,
   "metadata": {
    "collapsed": false,
    "deletable": true,
    "editable": true
   },
   "outputs": [
    {
     "data": {
      "text/plain": [
       "False"
      ]
     },
     "execution_count": 70,
     "metadata": {},
     "output_type": "execute_result"
    }
   ],
   "source": [
    "def is_green(image, show_image=False):\n",
    "    \"\"\"Detect whether the image is the green thingy.\n",
    "    \n",
    "    The dataset contains truncated images, make sure to handle that properly.\n",
    "    \n",
    "    \"\"\"\n",
    "    green = np.array([[[0, 255, 0]]])\n",
    "\n",
    "    new_image = image - green\n",
    "    new_image[new_image < 0] = 0\n",
    "    \n",
    "    h, w, _ = new_image.shape\n",
    "    pixels = h * w\n",
    "    \n",
    "    if show_image:\n",
    "        new_image = new_image.astype(np.uint8)\n",
    "        plt.imshow(new_image)\n",
    "\n",
    "    return np.linalg.norm(new_image) / pixels < 1e-3\n",
    "\n",
    "\n",
    "image = plt.imread(os.path.join(TRAIN_DIR, 'Type_1', '873.jpg'))\n",
    "image = plt.imread(os.path.join(TRAIN_DIR, 'Type_1', '10.jpg'))\n",
    "\n",
    "is_green(image)"
   ]
  },
  {
   "cell_type": "code",
   "execution_count": 73,
   "metadata": {
    "collapsed": false,
    "deletable": true,
    "editable": true
   },
   "outputs": [
    {
     "name": "stdout",
     "output_type": "stream",
     "text": [
      "[['data/train/Type_1/873.jpg', 'data/train/Type_1/906.jpg', 'data/train/Type_1/982.jpg'], ['data/train/Type_2/1209.jpg', 'data/train/Type_2/184.jpg', 'data/train/Type_2/173.jpg'], []]\n"
     ]
    }
   ],
   "source": [
    "green = [[img for img in types if is_green(plt.imread(img))] for types in samples]\n",
    "print(green)"
   ]
  },
  {
   "cell_type": "code",
   "execution_count": null,
   "metadata": {
    "collapsed": true
   },
   "outputs": [],
   "source": []
  }
 ],
 "metadata": {
  "kernelspec": {
   "display_name": "Python 3",
   "language": "python",
   "name": "python3"
  },
  "language_info": {
   "codemirror_mode": {
    "name": "ipython",
    "version": 3
   },
   "file_extension": ".py",
   "mimetype": "text/x-python",
   "name": "python",
   "nbconvert_exporter": "python",
   "pygments_lexer": "ipython3",
   "version": "3.5.3"
  }
 },
 "nbformat": 4,
 "nbformat_minor": 2
}
